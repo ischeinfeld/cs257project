{
 "cells": [
  {
   "cell_type": "markdown",
   "metadata": {},
   "source": [
    "# Keras Sandbox"
   ]
  },
  {
   "cell_type": "markdown",
   "metadata": {},
   "source": [
    "## Notes and Sources\n",
    "- Contrastive Loss\n",
    "- Triplet Loss\n",
    "https://github.com/maciejkula/triplet_recommendations_keras\n",
    "- Comparison\n",
    "https://www.quora.com/What-are-the-advantages-of-using-a-triplet-loss-function-over-a-contrastive-loss-How-would-you-decide-which-to-use"
   ]
  },
  {
   "cell_type": "code",
   "execution_count": 111,
   "metadata": {
    "collapsed": false
   },
   "outputs": [],
   "source": [
    "import numpy as np\n",
    "from sklearn.utils import shuffle\n",
    "from sklearn.model_selection import train_test_split\n",
    "from keras.models import Sequential\n",
    "from keras.layers import Dense, Dropout"
   ]
  },
  {
   "cell_type": "markdown",
   "metadata": {},
   "source": [
    "## Load Data"
   ]
  },
  {
   "cell_type": "code",
   "execution_count": 60,
   "metadata": {
    "collapsed": false
   },
   "outputs": [],
   "source": [
    "def load_data(config, balance=True):\n",
    "    print('Loading data...')\n",
    "    X_r = np.load(config + \"_X_r.npy\")\n",
    "    X_s = np.load(config + \"_X_s.npy\")\n",
    "    y = np.load(config + \"_y.npy\")\n",
    "    print('Data loaded.')\n",
    "    \n",
    "    if balance:\n",
    "        print(\"Balancing...\")\n",
    "        X_r, X_s, y = shuffle(X_r, X_s, y)\n",
    "        #TODO get top count of 1s and 0s\n",
    "    return X_r, X_s, y"
   ]
  },
  {
   "cell_type": "markdown",
   "metadata": {},
   "source": [
    "## MLP with concatenation"
   ]
  },
  {
   "cell_type": "markdown",
   "metadata": {},
   "source": [
    "### Prepare Data"
   ]
  },
  {
   "cell_type": "code",
   "execution_count": 110,
   "metadata": {
    "collapsed": false
   },
   "outputs": [
    {
     "name": "stdout",
     "output_type": "stream",
     "text": [
      "Loading data...\n",
      "Data loaded.\n",
      "(2468682, 15, 6)\n",
      "(2468682, 1)\n",
      "[[0]\n",
      " [0]\n",
      " [0]\n",
      " [0]\n",
      " [0]\n",
      " [0]\n",
      " [0]\n",
      " [0]\n",
      " [0]\n",
      " [0]]\n"
     ]
    }
   ],
   "source": [
    "Xr, Xs, y = load_data(\"test\") # shape (samples, length, one-hot-size)\n",
    "\n",
    "# if the regex one-hot vector is larger than the string vector\n",
    "if Xr.shape[2] != Xs.shape[2]:\n",
    "    Xs = np.concatenate((Xs, np.zeros((Xs.shape[0], Xs.shape[1], Xr.shape[2] - Xs.shape[2]))), axis=2)\n",
    "\n",
    "X = np.concatenate((Xr, Xs), axis=1)\n",
    "print(X.shape)\n",
    "print(y.shape)\n",
    "\n",
    "X_train, X_test, y_train, y_test = train_test_split(X, y, test_size=0.33, random_state=42)\n",
    "X_train = X_train[0:10]\n",
    "y_train = y_train[0:10]\n",
    "X_test = X_test[0:1000]\n",
    "y_test = y_test[0:1000]\n",
    "print(y_train)"
   ]
  },
  {
   "cell_type": "code",
   "execution_count": 107,
   "metadata": {
    "collapsed": false
   },
   "outputs": [
    {
     "name": "stdout",
     "output_type": "stream",
     "text": [
      "Epoch 1/20\n",
      "10/10 [==============================] - 1s 81ms/step - loss: 0.7239 - acc: 0.5000\n",
      "Epoch 2/20\n",
      "10/10 [==============================] - 0s 181us/step - loss: 0.6155 - acc: 0.8000\n",
      "Epoch 3/20\n",
      "10/10 [==============================] - 0s 292us/step - loss: 0.5553 - acc: 0.7000\n",
      "Epoch 4/20\n",
      "10/10 [==============================] - 0s 248us/step - loss: 0.4118 - acc: 1.0000\n",
      "Epoch 5/20\n",
      "10/10 [==============================] - 0s 213us/step - loss: 0.4819 - acc: 1.0000\n",
      "Epoch 6/20\n",
      "10/10 [==============================] - 0s 459us/step - loss: 0.4370 - acc: 0.9000\n",
      "Epoch 7/20\n",
      "10/10 [==============================] - 0s 506us/step - loss: 0.3723 - acc: 0.9000\n",
      "Epoch 8/20\n",
      "10/10 [==============================] - 0s 448us/step - loss: 0.3243 - acc: 1.0000\n",
      "Epoch 9/20\n",
      "10/10 [==============================] - 0s 229us/step - loss: 0.3454 - acc: 0.9000\n",
      "Epoch 10/20\n",
      "10/10 [==============================] - 0s 220us/step - loss: 0.3799 - acc: 0.9000\n",
      "Epoch 11/20\n",
      "10/10 [==============================] - 0s 260us/step - loss: 0.2360 - acc: 1.0000\n",
      "Epoch 12/20\n",
      "10/10 [==============================] - 0s 263us/step - loss: 0.2973 - acc: 1.0000\n",
      "Epoch 13/20\n",
      "10/10 [==============================] - 0s 260us/step - loss: 0.3116 - acc: 1.0000\n",
      "Epoch 14/20\n",
      "10/10 [==============================] - 0s 247us/step - loss: 0.3000 - acc: 1.0000\n",
      "Epoch 15/20\n",
      "10/10 [==============================] - 0s 429us/step - loss: 0.2194 - acc: 1.0000\n",
      "Epoch 16/20\n",
      "10/10 [==============================] - 0s 436us/step - loss: 0.2296 - acc: 1.0000\n",
      "Epoch 17/20\n",
      "10/10 [==============================] - 0s 259us/step - loss: 0.1942 - acc: 1.0000\n",
      "Epoch 18/20\n",
      "10/10 [==============================] - 0s 304us/step - loss: 0.1355 - acc: 1.0000\n",
      "Epoch 19/20\n",
      "10/10 [==============================] - 0s 214us/step - loss: 0.1709 - acc: 1.0000\n",
      "Epoch 20/20\n",
      "10/10 [==============================] - 0s 199us/step - loss: 0.1871 - acc: 1.0000\n",
      "1000/1000 [==============================] - 0s 242us/step\b\b\b\b\b\b\b\b\b\b\b\b\b\b\b\b\b\b\b\b\b\b\b\b\b\b\b\b\b\b\b\b\b\b\b\b\b\b\b\b\b\b\b\b\b\b\n",
      "[0.20742215871810912, 0.9960000023841858]\n"
     ]
    }
   ],
   "source": [
    "model = Sequential()\n",
    "model.add(keras.layers.Flatten(input_shape=(15, 6)))\n",
    "#model.add(Dense(64, activation='relu'))\n",
    "#model.add(Dropout(0.5))\n",
    "model.add(Dense(64, activation='relu'))\n",
    "model.add(Dropout(0.5))\n",
    "model.add(Dense(1, activation='sigmoid'))\n",
    "\n",
    "model.compile(loss='binary_crossentropy',\n",
    "              optimizer='rmsprop',\n",
    "              metrics=['accuracy'])\n",
    "\n",
    "model.fit(X_train, y_train,\n",
    "          epochs=20,\n",
    "          batch_size=128)\n",
    "score = model.evaluate(X_test, y_test, batch_size=128)\n",
    "print(score)"
   ]
  },
  {
   "cell_type": "code",
   "execution_count": null,
   "metadata": {
    "collapsed": true
   },
   "outputs": [],
   "source": []
  }
 ],
 "metadata": {
  "kernelspec": {
   "display_name": "Python 3",
   "language": "python",
   "name": "python3"
  },
  "language_info": {
   "codemirror_mode": {
    "name": "ipython",
    "version": 3
   },
   "file_extension": ".py",
   "mimetype": "text/x-python",
   "name": "python",
   "nbconvert_exporter": "python",
   "pygments_lexer": "ipython3",
   "version": "3.6.4"
  }
 },
 "nbformat": 4,
 "nbformat_minor": 2
}
