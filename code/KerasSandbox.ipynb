{
 "cells": [
  {
   "cell_type": "markdown",
   "metadata": {},
   "source": [
    "# Keras Sandbox"
   ]
  },
  {
   "cell_type": "markdown",
   "metadata": {},
   "source": [
    "## Notes and Sources\n",
    "- Contrastive Loss\n",
    "- Triplet Loss\n",
    "https://github.com/maciejkula/triplet_recommendations_keras\n",
    "- Comparison\n",
    "https://www.quora.com/What-are-the-advantages-of-using-a-triplet-loss-function-over-a-contrastive-loss-How-would-you-decide-which-to-use"
   ]
  },
  {
   "cell_type": "code",
   "execution_count": 1,
   "metadata": {
    "collapsed": false
   },
   "outputs": [
    {
     "name": "stderr",
     "output_type": "stream",
     "text": [
      "/Users/ischeinfeld/anaconda/lib/python3.6/site-packages/h5py/__init__.py:34: FutureWarning: Conversion of the second argument of issubdtype from `float` to `np.floating` is deprecated. In future, it will be treated as `np.float64 == np.dtype(float).type`.\n",
      "  from ._conv import register_converters as _register_converters\n",
      "Using TensorFlow backend.\n"
     ]
    }
   ],
   "source": [
    "import keras\n",
    "import pandas as pd"
   ]
  },
  {
   "cell_type": "code",
   "execution_count": null,
   "metadata": {
    "collapsed": false
   },
   "outputs": [],
   "source": [
    "def load_data(fname, test_split = 0.2):\n",
    "    print 'Loading data...'\n",
    "    df = pd.read_csv(config.Data.feature_matrix)\n",
    "    df['encoded_msg'] = df['encoded_msg'].apply(lambda x: \\\n",
    "        [int(e) for e in x.split()])\n",
    "    df = df.reindex(random.permutation(df.index))\n",
    "\n",
    "    X_train = df['encoded_msg'].values[:int(len(df) * (1 - test_split))]\n",
    "    y_train = array(df['was_blocked'].values[:int(len(df) * (1 - test_split))])\n",
    "\n",
    "    X_test = array(df['encoded_msg'].values[int(len(df) * (1 - test_split))])\n",
    "    y_test = array(df['was_blocked'].values[int(len(df) * (1 - test_split))])\n",
    "\n",
    "    #return pad_sequences(X_train) ,y_train, X_test, y_test\n",
    "    return X_train ,y_train, X_test, y_test"
   ]
  },
  {
   "cell_type": "code",
   "execution_count": null,
   "metadata": {
    "collapsed": true
   },
   "outputs": [],
   "source": []
  }
 ],
 "metadata": {
  "kernelspec": {
   "display_name": "Python 3",
   "language": "python",
   "name": "python3"
  },
  "language_info": {
   "codemirror_mode": {
    "name": "ipython",
    "version": 3
   },
   "file_extension": ".py",
   "mimetype": "text/x-python",
   "name": "python",
   "nbconvert_exporter": "python",
   "pygments_lexer": "ipython3",
   "version": "3.6.4"
  }
 },
 "nbformat": 4,
 "nbformat_minor": 2
}
