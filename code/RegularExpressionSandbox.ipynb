{
 "cells": [
  {
   "cell_type": "code",
   "execution_count": 17,
   "metadata": {
    "collapsed": true
   },
   "outputs": [],
   "source": [
    "import re\n",
    "from itertools import product\n",
    "from string import ascii_letters"
   ]
  },
  {
   "cell_type": "code",
   "execution_count": 60,
   "metadata": {
    "collapsed": true
   },
   "outputs": [],
   "source": [
    "def all_strings(n, alphabet):\n",
    "    for s in product(alphabet, repeat=n):\n",
    "        yield ''.join(s)"
   ]
  },
  {
   "cell_type": "code",
   "execution_count": 61,
   "metadata": {
    "collapsed": false
   },
   "outputs": [
    {
     "data": {
      "text/plain": [
       "re.compile(r'o[gh]', re.UNICODE)"
      ]
     },
     "execution_count": 61,
     "metadata": {},
     "output_type": "execute_result"
    }
   ],
   "source": [
    "pattern = re.compile(\"o[gh]\")\n",
    "pattern"
   ]
  },
  {
   "cell_type": "code",
   "execution_count": 62,
   "metadata": {
    "collapsed": false
   },
   "outputs": [
    {
     "name": "stdout",
     "output_type": "stream",
     "text": [
      "Not a valid pattern\n"
     ]
    }
   ],
   "source": [
    "try:\n",
    "    pattern = re.compile(\"o[gh\")\n",
    "    print(\"A valid pattern\")\n",
    "except:\n",
    "    print(\"Not a valid pattern\")"
   ]
  },
  {
   "cell_type": "code",
   "execution_count": 63,
   "metadata": {
    "collapsed": false
   },
   "outputs": [
    {
     "name": "stdout",
     "output_type": "stream",
     "text": [
      "<_sre.SRE_Match object; span=(0, 2), match='og'>\n",
      "None\n",
      "None\n",
      "<_sre.SRE_Match object; span=(1, 3), match='og'>\n"
     ]
    }
   ],
   "source": [
    "print(pattern.fullmatch(\"og\"))\n",
    "print(pattern.fullmatch(\"dog\"))\n",
    "print(pattern.fullmatch(\"ogre\"))\n",
    "print(pattern.fullmatch(\"doggie\", 1, 3))"
   ]
  },
  {
   "cell_type": "code",
   "execution_count": 65,
   "metadata": {
    "collapsed": false
   },
   "outputs": [
    {
     "data": {
      "text/plain": [
       "['og', 'oh']"
      ]
     },
     "execution_count": 65,
     "metadata": {},
     "output_type": "execute_result"
    }
   ],
   "source": [
    "match_2 = [string for string in all_strings(2, ascii_letters) if pattern.fullmatch(string)]\n",
    "match_2"
   ]
  },
  {
   "cell_type": "code",
   "execution_count": 69,
   "metadata": {
    "collapsed": true
   },
   "outputs": [],
   "source": [
    "def extract_valid_regexes(candidates):\n",
    "    for c in candidates:\n",
    "        try:\n",
    "            yield re.compile(c)\n",
    "        except:\n",
    "            pass"
   ]
  },
  {
   "cell_type": "code",
   "execution_count": 71,
   "metadata": {
    "collapsed": false
   },
   "outputs": [
    {
     "data": {
      "text/plain": [
       "[re.compile(r'aaa', re.UNICODE),\n",
       " re.compile(r'aab', re.UNICODE),\n",
       " re.compile(r'aac', re.UNICODE),\n",
       " re.compile(r'aad', re.UNICODE),\n",
       " re.compile(r'aa|', re.UNICODE),\n",
       " re.compile(r'aa*', re.UNICODE)]"
      ]
     },
     "execution_count": 71,
     "metadata": {},
     "output_type": "execute_result"
    }
   ],
   "source": [
    "char_count = 4 # Must be < 2 * 26\n",
    "characters = ascii_letters[:char_count]\n",
    "alphabet = characters + \"()|*\"\n",
    "possible_strings = list(all_strings(3, characters))\n",
    "possible_regexes = all_strings(3, alphabet)\n",
    "valid_regexes = list(extract_valid_regexes(possible_regexes))\n",
    "valid_regexes[0:6]"
   ]
  },
  {
   "cell_type": "code",
   "execution_count": 59,
   "metadata": {
    "collapsed": false
   },
   "outputs": [],
   "source": [
    "reg = re.compile('|||') # Note that this is a valid regex"
   ]
  },
  {
   "cell_type": "code",
   "execution_count": 75,
   "metadata": {
    "collapsed": true
   },
   "outputs": [],
   "source": [
    "def gen_valid_regexes(length, alphabet):\n",
    "    return extract_valid_regexes(all_strings(length, alphabet))"
   ]
  },
  {
   "cell_type": "code",
   "execution_count": 77,
   "metadata": {
    "collapsed": false
   },
   "outputs": [
    {
     "data": {
      "text/plain": [
       "[re.compile(r'aaaa', re.UNICODE),\n",
       " re.compile(r'aaab', re.UNICODE),\n",
       " re.compile(r'aaac', re.UNICODE),\n",
       " re.compile(r'aaad', re.UNICODE),\n",
       " re.compile(r'aaa|', re.UNICODE),\n",
       " re.compile(r'aaa*', re.UNICODE)]"
      ]
     },
     "execution_count": 77,
     "metadata": {},
     "output_type": "execute_result"
    }
   ],
   "source": [
    "list(gen_valid_regexes(4, alphabet))[:6]"
   ]
  },
  {
   "cell_type": "code",
   "execution_count": null,
   "metadata": {
    "collapsed": true
   },
   "outputs": [],
   "source": []
  }
 ],
 "metadata": {
  "kernelspec": {
   "display_name": "Python 3",
   "language": "python",
   "name": "python3"
  },
  "language_info": {
   "codemirror_mode": {
    "name": "ipython",
    "version": 3
   },
   "file_extension": ".py",
   "mimetype": "text/x-python",
   "name": "python",
   "nbconvert_exporter": "python",
   "pygments_lexer": "ipython3",
   "version": "3.6.4"
  }
 },
 "nbformat": 4,
 "nbformat_minor": 2
}
