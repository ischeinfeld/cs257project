{
 "cells": [
  {
   "cell_type": "markdown",
   "metadata": {},
   "source": [
    "# Regular Expression Dataset Generation"
   ]
  },
  {
   "cell_type": "markdown",
   "metadata": {},
   "source": [
    "## Utilities\n",
    "### Definitions"
   ]
  },
  {
   "cell_type": "code",
   "execution_count": 51,
   "metadata": {
    "collapsed": false
   },
   "outputs": [
    {
     "name": "stderr",
     "output_type": "stream",
     "text": [
      "/Users/ischeinfeld/anaconda/lib/python3.6/site-packages/h5py/__init__.py:34: FutureWarning: Conversion of the second argument of issubdtype from `float` to `np.floating` is deprecated. In future, it will be treated as `np.float64 == np.dtype(float).type`.\n",
      "  from ._conv import register_converters as _register_converters\n",
      "Using TensorFlow backend.\n"
     ]
    }
   ],
   "source": [
    "import re\n",
    "from itertools import product\n",
    "from string import ascii_letters\n",
    "import csv\n",
    "import keras"
   ]
  },
  {
   "cell_type": "code",
   "execution_count": 4,
   "metadata": {
    "collapsed": true
   },
   "outputs": [],
   "source": [
    "def all_strings(max_length, alphabet):\n",
    "    \"\"\"Returns a generator of all strings up to a given length from an alphabet\"\"\"\n",
    "    for length in range(max_length + 1):\n",
    "        for s in product(alphabet, repeat=length):\n",
    "            yield ''.join(s)"
   ]
  },
  {
   "cell_type": "code",
   "execution_count": 5,
   "metadata": {
    "collapsed": true
   },
   "outputs": [],
   "source": [
    "def extract_valid_regexes(candidates):\n",
    "    \"\"\"Takes a generator of strings and returns a generator of compiled valid regexes\"\"\"\n",
    "    for c in candidates:\n",
    "        try:\n",
    "            yield re.compile(c)\n",
    "        except:\n",
    "            pass"
   ]
  },
  {
   "cell_type": "code",
   "execution_count": 6,
   "metadata": {
    "collapsed": true
   },
   "outputs": [],
   "source": [
    "def all_regexes(max_length, alphabet):\n",
    "    \"\"\"Returns a generator of all valid regexes up to a length from an alphabet\"\"\"\n",
    "    return extract_valid_regexes(all_strings(max_length, alphabet))"
   ]
  },
  {
   "cell_type": "markdown",
   "metadata": {},
   "source": [
    "### Examples"
   ]
  },
  {
   "cell_type": "code",
   "execution_count": 7,
   "metadata": {
    "collapsed": false
   },
   "outputs": [
    {
     "name": "stdout",
     "output_type": "stream",
     "text": [
      "['', 'a', 'b', 'aa', 'ab', 'ba', 'bb']\n",
      "[re.compile(''), re.compile('a'), re.compile('b'), re.compile('|'), re.compile('aa'), re.compile('ab')]\n"
     ]
    }
   ],
   "source": [
    "print(list(all_strings(2, \"ab\")))\n",
    "print(list(all_regexes(3, \"ab|*\"))[:6])"
   ]
  },
  {
   "cell_type": "markdown",
   "metadata": {},
   "source": [
    "## Dataset Generation\n",
    "### Definitions"
   ]
  },
  {
   "cell_type": "code",
   "execution_count": 8,
   "metadata": {
    "collapsed": true
   },
   "outputs": [],
   "source": [
    "def regex_apply_all(regex, max_length, alphabet):\n",
    "    \"\"\"Returns a generator that takes a compiled regex and yields\n",
    "    tuples for every string of length from alphabet with whether\n",
    "    or not it matches the regex\"\"\"\n",
    "    for string in all_strings(max_length, alphabet):\n",
    "        yield (string, bool(regex.fullmatch(string)))"
   ]
  },
  {
   "cell_type": "code",
   "execution_count": 9,
   "metadata": {
    "collapsed": true
   },
   "outputs": [],
   "source": [
    "def dataset_size_bound(regex_max_length, string_max_length, alphabet, regex_chars):\n",
    "    \"\"\"Returns an upper bound on the size of a dataset generated with the same parameters\"\"\"\n",
    "    count_regexes = sum(len(alphabet + regex_chars) ** length for length in range(regex_max_length + 1))\n",
    "    count_strings = sum(len(alphabet) ** length for length in range(string_max_length + 1))\n",
    "    return count_regexes * count_strings"
   ]
  },
  {
   "cell_type": "code",
   "execution_count": 40,
   "metadata": {
    "collapsed": false
   },
   "outputs": [],
   "source": [
    "def dataset_generator(regex_max_length, string_max_length, alphabet, regex_chars):\n",
    "    \"\"\"Returns a generator that gives for every regex-string pair\n",
    "    up to a length whether or not they match\"\"\"\n",
    "    for regex in all_regexes(regex_max_length, alphabet + regex_chars):\n",
    "        for string in all_strings(string_max_length, alphabet):\n",
    "            yield regex.pattern, string, bool(regex.fullmatch(string))"
   ]
  },
  {
   "cell_type": "markdown",
   "metadata": {},
   "source": [
    "### Examples"
   ]
  },
  {
   "cell_type": "code",
   "execution_count": 11,
   "metadata": {
    "collapsed": false
   },
   "outputs": [
    {
     "data": {
      "text/plain": [
       "[('', False),\n",
       " ('a', True),\n",
       " ('b', False),\n",
       " ('aa', True),\n",
       " ('ab', False),\n",
       " ('ba', False),\n",
       " ('bb', False)]"
      ]
     },
     "execution_count": 11,
     "metadata": {},
     "output_type": "execute_result"
    }
   ],
   "source": [
    "list(regex_apply_all(re.compile(r'a|aa'), 2, \"ab\"))"
   ]
  },
  {
   "cell_type": "code",
   "execution_count": 12,
   "metadata": {
    "collapsed": false
   },
   "outputs": [
    {
     "data": {
      "text/plain": [
       "[('', '', True),\n",
       " ('', 'a', False),\n",
       " ('', 'b', False),\n",
       " ('', 'aa', False),\n",
       " ('', 'ab', False),\n",
       " ('', 'ba', False),\n",
       " ('', 'bb', False),\n",
       " ('a', '', False),\n",
       " ('a', 'a', True),\n",
       " ('a', 'b', False),\n",
       " ('a', 'aa', False),\n",
       " ('a', 'ab', False),\n",
       " ('a', 'ba', False),\n",
       " ('a', 'bb', False),\n",
       " ('b', '', False),\n",
       " ('b', 'a', False),\n",
       " ('b', 'b', True),\n",
       " ('b', 'aa', False),\n",
       " ('b', 'ab', False),\n",
       " ('b', 'ba', False),\n",
       " ('b', 'bb', False),\n",
       " ('|', '', True),\n",
       " ('|', 'a', False),\n",
       " ('|', 'b', False),\n",
       " ('|', 'aa', False),\n",
       " ('|', 'ab', False),\n",
       " ('|', 'ba', False),\n",
       " ('|', 'bb', False),\n",
       " ('aa', '', False),\n",
       " ('aa', 'a', False),\n",
       " ('aa', 'b', False),\n",
       " ('aa', 'aa', True),\n",
       " ('aa', 'ab', False),\n",
       " ('aa', 'ba', False),\n",
       " ('aa', 'bb', False),\n",
       " ('ab', '', False),\n",
       " ('ab', 'a', False),\n",
       " ('ab', 'b', False),\n",
       " ('ab', 'aa', False),\n",
       " ('ab', 'ab', True),\n",
       " ('ab', 'ba', False),\n",
       " ('ab', 'bb', False),\n",
       " ('a|', '', True),\n",
       " ('a|', 'a', True),\n",
       " ('a|', 'b', False),\n",
       " ('a|', 'aa', False),\n",
       " ('a|', 'ab', False),\n",
       " ('a|', 'ba', False),\n",
       " ('a|', 'bb', False),\n",
       " ('ba', '', False),\n",
       " ('ba', 'a', False),\n",
       " ('ba', 'b', False),\n",
       " ('ba', 'aa', False),\n",
       " ('ba', 'ab', False),\n",
       " ('ba', 'ba', True),\n",
       " ('ba', 'bb', False),\n",
       " ('bb', '', False),\n",
       " ('bb', 'a', False),\n",
       " ('bb', 'b', False),\n",
       " ('bb', 'aa', False),\n",
       " ('bb', 'ab', False),\n",
       " ('bb', 'ba', False),\n",
       " ('bb', 'bb', True),\n",
       " ('b|', '', True),\n",
       " ('b|', 'a', False),\n",
       " ('b|', 'b', True),\n",
       " ('b|', 'aa', False),\n",
       " ('b|', 'ab', False),\n",
       " ('b|', 'ba', False),\n",
       " ('b|', 'bb', False),\n",
       " ('|a', '', True),\n",
       " ('|a', 'a', True),\n",
       " ('|a', 'b', False),\n",
       " ('|a', 'aa', False),\n",
       " ('|a', 'ab', False),\n",
       " ('|a', 'ba', False),\n",
       " ('|a', 'bb', False),\n",
       " ('|b', '', True),\n",
       " ('|b', 'a', False),\n",
       " ('|b', 'b', True),\n",
       " ('|b', 'aa', False),\n",
       " ('|b', 'ab', False),\n",
       " ('|b', 'ba', False),\n",
       " ('|b', 'bb', False),\n",
       " ('||', '', True),\n",
       " ('||', 'a', False),\n",
       " ('||', 'b', False),\n",
       " ('||', 'aa', False),\n",
       " ('||', 'ab', False),\n",
       " ('||', 'ba', False),\n",
       " ('||', 'bb', False),\n",
       " ('aaa', '', False),\n",
       " ('aaa', 'a', False),\n",
       " ('aaa', 'b', False),\n",
       " ('aaa', 'aa', False),\n",
       " ('aaa', 'ab', False),\n",
       " ('aaa', 'ba', False),\n",
       " ('aaa', 'bb', False),\n",
       " ('aab', '', False),\n",
       " ('aab', 'a', False),\n",
       " ('aab', 'b', False),\n",
       " ('aab', 'aa', False),\n",
       " ('aab', 'ab', False),\n",
       " ('aab', 'ba', False),\n",
       " ('aab', 'bb', False),\n",
       " ('aa|', '', True),\n",
       " ('aa|', 'a', False),\n",
       " ('aa|', 'b', False),\n",
       " ('aa|', 'aa', True),\n",
       " ('aa|', 'ab', False),\n",
       " ('aa|', 'ba', False),\n",
       " ('aa|', 'bb', False),\n",
       " ('aba', '', False),\n",
       " ('aba', 'a', False),\n",
       " ('aba', 'b', False),\n",
       " ('aba', 'aa', False),\n",
       " ('aba', 'ab', False),\n",
       " ('aba', 'ba', False),\n",
       " ('aba', 'bb', False),\n",
       " ('abb', '', False),\n",
       " ('abb', 'a', False),\n",
       " ('abb', 'b', False),\n",
       " ('abb', 'aa', False),\n",
       " ('abb', 'ab', False),\n",
       " ('abb', 'ba', False),\n",
       " ('abb', 'bb', False),\n",
       " ('ab|', '', True),\n",
       " ('ab|', 'a', False),\n",
       " ('ab|', 'b', False),\n",
       " ('ab|', 'aa', False),\n",
       " ('ab|', 'ab', True),\n",
       " ('ab|', 'ba', False),\n",
       " ('ab|', 'bb', False),\n",
       " ('a|a', '', False),\n",
       " ('a|a', 'a', True),\n",
       " ('a|a', 'b', False),\n",
       " ('a|a', 'aa', False),\n",
       " ('a|a', 'ab', False),\n",
       " ('a|a', 'ba', False),\n",
       " ('a|a', 'bb', False),\n",
       " ('a|b', '', False),\n",
       " ('a|b', 'a', True),\n",
       " ('a|b', 'b', True),\n",
       " ('a|b', 'aa', False),\n",
       " ('a|b', 'ab', False),\n",
       " ('a|b', 'ba', False),\n",
       " ('a|b', 'bb', False),\n",
       " ('a||', '', True),\n",
       " ('a||', 'a', True),\n",
       " ('a||', 'b', False),\n",
       " ('a||', 'aa', False),\n",
       " ('a||', 'ab', False),\n",
       " ('a||', 'ba', False),\n",
       " ('a||', 'bb', False),\n",
       " ('baa', '', False),\n",
       " ('baa', 'a', False),\n",
       " ('baa', 'b', False),\n",
       " ('baa', 'aa', False),\n",
       " ('baa', 'ab', False),\n",
       " ('baa', 'ba', False),\n",
       " ('baa', 'bb', False),\n",
       " ('bab', '', False),\n",
       " ('bab', 'a', False),\n",
       " ('bab', 'b', False),\n",
       " ('bab', 'aa', False),\n",
       " ('bab', 'ab', False),\n",
       " ('bab', 'ba', False),\n",
       " ('bab', 'bb', False),\n",
       " ('ba|', '', True),\n",
       " ('ba|', 'a', False),\n",
       " ('ba|', 'b', False),\n",
       " ('ba|', 'aa', False),\n",
       " ('ba|', 'ab', False),\n",
       " ('ba|', 'ba', True),\n",
       " ('ba|', 'bb', False),\n",
       " ('bba', '', False),\n",
       " ('bba', 'a', False),\n",
       " ('bba', 'b', False),\n",
       " ('bba', 'aa', False),\n",
       " ('bba', 'ab', False),\n",
       " ('bba', 'ba', False),\n",
       " ('bba', 'bb', False),\n",
       " ('bbb', '', False),\n",
       " ('bbb', 'a', False),\n",
       " ('bbb', 'b', False),\n",
       " ('bbb', 'aa', False),\n",
       " ('bbb', 'ab', False),\n",
       " ('bbb', 'ba', False),\n",
       " ('bbb', 'bb', False),\n",
       " ('bb|', '', True),\n",
       " ('bb|', 'a', False),\n",
       " ('bb|', 'b', False),\n",
       " ('bb|', 'aa', False),\n",
       " ('bb|', 'ab', False),\n",
       " ('bb|', 'ba', False),\n",
       " ('bb|', 'bb', True),\n",
       " ('b|a', '', False),\n",
       " ('b|a', 'a', True),\n",
       " ('b|a', 'b', True),\n",
       " ('b|a', 'aa', False),\n",
       " ('b|a', 'ab', False),\n",
       " ('b|a', 'ba', False),\n",
       " ('b|a', 'bb', False),\n",
       " ('b|b', '', False),\n",
       " ('b|b', 'a', False),\n",
       " ('b|b', 'b', True),\n",
       " ('b|b', 'aa', False),\n",
       " ('b|b', 'ab', False),\n",
       " ('b|b', 'ba', False),\n",
       " ('b|b', 'bb', False),\n",
       " ('b||', '', True),\n",
       " ('b||', 'a', False),\n",
       " ('b||', 'b', True),\n",
       " ('b||', 'aa', False),\n",
       " ('b||', 'ab', False),\n",
       " ('b||', 'ba', False),\n",
       " ('b||', 'bb', False),\n",
       " ('|aa', '', True),\n",
       " ('|aa', 'a', False),\n",
       " ('|aa', 'b', False),\n",
       " ('|aa', 'aa', True),\n",
       " ('|aa', 'ab', False),\n",
       " ('|aa', 'ba', False),\n",
       " ('|aa', 'bb', False),\n",
       " ('|ab', '', True),\n",
       " ('|ab', 'a', False),\n",
       " ('|ab', 'b', False),\n",
       " ('|ab', 'aa', False),\n",
       " ('|ab', 'ab', True),\n",
       " ('|ab', 'ba', False),\n",
       " ('|ab', 'bb', False),\n",
       " ('|a|', '', True),\n",
       " ('|a|', 'a', True),\n",
       " ('|a|', 'b', False),\n",
       " ('|a|', 'aa', False),\n",
       " ('|a|', 'ab', False),\n",
       " ('|a|', 'ba', False),\n",
       " ('|a|', 'bb', False),\n",
       " ('|ba', '', True),\n",
       " ('|ba', 'a', False),\n",
       " ('|ba', 'b', False),\n",
       " ('|ba', 'aa', False),\n",
       " ('|ba', 'ab', False),\n",
       " ('|ba', 'ba', True),\n",
       " ('|ba', 'bb', False),\n",
       " ('|bb', '', True),\n",
       " ('|bb', 'a', False),\n",
       " ('|bb', 'b', False),\n",
       " ('|bb', 'aa', False),\n",
       " ('|bb', 'ab', False),\n",
       " ('|bb', 'ba', False),\n",
       " ('|bb', 'bb', True),\n",
       " ('|b|', '', True),\n",
       " ('|b|', 'a', False),\n",
       " ('|b|', 'b', True),\n",
       " ('|b|', 'aa', False),\n",
       " ('|b|', 'ab', False),\n",
       " ('|b|', 'ba', False),\n",
       " ('|b|', 'bb', False),\n",
       " ('||a', '', True),\n",
       " ('||a', 'a', True),\n",
       " ('||a', 'b', False),\n",
       " ('||a', 'aa', False),\n",
       " ('||a', 'ab', False),\n",
       " ('||a', 'ba', False),\n",
       " ('||a', 'bb', False),\n",
       " ('||b', '', True),\n",
       " ('||b', 'a', False),\n",
       " ('||b', 'b', True),\n",
       " ('||b', 'aa', False),\n",
       " ('||b', 'ab', False),\n",
       " ('||b', 'ba', False),\n",
       " ('||b', 'bb', False),\n",
       " ('|||', '', True),\n",
       " ('|||', 'a', False),\n",
       " ('|||', 'b', False),\n",
       " ('|||', 'aa', False),\n",
       " ('|||', 'ab', False),\n",
       " ('|||', 'ba', False),\n",
       " ('|||', 'bb', False)]"
      ]
     },
     "execution_count": 12,
     "metadata": {},
     "output_type": "execute_result"
    }
   ],
   "source": [
    "list(dataset_generator(3, 2, \"ab\", \"|\"))"
   ]
  },
  {
   "cell_type": "code",
   "execution_count": 13,
   "metadata": {
    "collapsed": false
   },
   "outputs": [
    {
     "data": {
      "text/plain": [
       "35429200"
      ]
     },
     "execution_count": 13,
     "metadata": {},
     "output_type": "execute_result"
    }
   ],
   "source": [
    "dataset_size_bound(3, 10, \"abc\", \"|*()\")"
   ]
  },
  {
   "cell_type": "code",
   "execution_count": 14,
   "metadata": {
    "collapsed": false
   },
   "outputs": [
    {
     "data": {
      "text/plain": [
       "2214325"
      ]
     },
     "execution_count": 14,
     "metadata": {},
     "output_type": "execute_result"
    }
   ],
   "source": [
    "len(list(dataset_generator(2, 10, \"abc\", \"|*()\")))"
   ]
  },
  {
   "cell_type": "markdown",
   "metadata": {},
   "source": [
    "## Writing Dataset"
   ]
  },
  {
   "cell_type": "code",
   "execution_count": 49,
   "metadata": {
    "collapsed": false
   },
   "outputs": [],
   "source": [
    "max_regex_len = 2\n",
    "max_string_len = 2\n",
    "alphabet = \"abc\"\n",
    "regex_chars = \"|*()\""
   ]
  },
  {
   "cell_type": "markdown",
   "metadata": {},
   "source": [
    "### Padded Dataset"
   ]
  },
  {
   "cell_type": "code",
   "execution_count": 52,
   "metadata": {
    "collapsed": true
   },
   "outputs": [],
   "source": [
    "pad_char = \"_\"\n",
    "embedding = dict(map(reversed, enumerate(pad_char + alphabet + regex_chars)))"
   ]
  },
  {
   "cell_type": "code",
   "execution_count": 59,
   "metadata": {
    "collapsed": true
   },
   "outputs": [],
   "source": [
    "def embed(string, embedding, length, pad_char):\n",
    "    padded_string = string.ljust(length, pad_char)[:length]\n",
    "    return [embedding[char] for char in padded_string]"
   ]
  },
  {
   "cell_type": "code",
   "execution_count": 60,
   "metadata": {
    "collapsed": false
   },
   "outputs": [],
   "source": [
    "regexes, strings, labels = zip(*dataset_generator(2, 2, \"abc\", \"|*()\"))\n",
    "\n",
    "X_r = [embed(string, embedding, max_regex_len, pad_char) for string in regexes]\n",
    "X_s = [embed(string, embedding, max_string_len, pad_char) for string in strings]\n",
    "y = [int(b) for b in y]"
   ]
  },
  {
   "cell_type": "code",
   "execution_count": 61,
   "metadata": {
    "collapsed": false
   },
   "outputs": [
    {
     "data": {
      "text/plain": [
       "[[0, 0],\n",
       " [0, 0],\n",
       " [0, 0],\n",
       " [0, 0],\n",
       " [0, 0],\n",
       " [0, 0],\n",
       " [0, 0],\n",
       " [0, 0],\n",
       " [0, 0],\n",
       " [0, 0],\n",
       " [0, 0],\n",
       " [0, 0],\n",
       " [0, 0],\n",
       " [1, 0],\n",
       " [1, 0],\n",
       " [1, 0],\n",
       " [1, 0],\n",
       " [1, 0],\n",
       " [1, 0],\n",
       " [1, 0],\n",
       " [1, 0],\n",
       " [1, 0],\n",
       " [1, 0],\n",
       " [1, 0],\n",
       " [1, 0],\n",
       " [1, 0],\n",
       " [2, 0],\n",
       " [2, 0],\n",
       " [2, 0],\n",
       " [2, 0],\n",
       " [2, 0],\n",
       " [2, 0],\n",
       " [2, 0],\n",
       " [2, 0],\n",
       " [2, 0],\n",
       " [2, 0],\n",
       " [2, 0],\n",
       " [2, 0],\n",
       " [2, 0],\n",
       " [3, 0],\n",
       " [3, 0],\n",
       " [3, 0],\n",
       " [3, 0],\n",
       " [3, 0],\n",
       " [3, 0],\n",
       " [3, 0],\n",
       " [3, 0],\n",
       " [3, 0],\n",
       " [3, 0],\n",
       " [3, 0],\n",
       " [3, 0],\n",
       " [3, 0],\n",
       " [4, 0],\n",
       " [4, 0],\n",
       " [4, 0],\n",
       " [4, 0],\n",
       " [4, 0],\n",
       " [4, 0],\n",
       " [4, 0],\n",
       " [4, 0],\n",
       " [4, 0],\n",
       " [4, 0],\n",
       " [4, 0],\n",
       " [4, 0],\n",
       " [4, 0],\n",
       " [1, 1],\n",
       " [1, 1],\n",
       " [1, 1],\n",
       " [1, 1],\n",
       " [1, 1],\n",
       " [1, 1],\n",
       " [1, 1],\n",
       " [1, 1],\n",
       " [1, 1],\n",
       " [1, 1],\n",
       " [1, 1],\n",
       " [1, 1],\n",
       " [1, 1],\n",
       " [1, 2],\n",
       " [1, 2],\n",
       " [1, 2],\n",
       " [1, 2],\n",
       " [1, 2],\n",
       " [1, 2],\n",
       " [1, 2],\n",
       " [1, 2],\n",
       " [1, 2],\n",
       " [1, 2],\n",
       " [1, 2],\n",
       " [1, 2],\n",
       " [1, 2],\n",
       " [1, 3],\n",
       " [1, 3],\n",
       " [1, 3],\n",
       " [1, 3],\n",
       " [1, 3],\n",
       " [1, 3],\n",
       " [1, 3],\n",
       " [1, 3],\n",
       " [1, 3],\n",
       " [1, 3],\n",
       " [1, 3],\n",
       " [1, 3],\n",
       " [1, 3],\n",
       " [1, 4],\n",
       " [1, 4],\n",
       " [1, 4],\n",
       " [1, 4],\n",
       " [1, 4],\n",
       " [1, 4],\n",
       " [1, 4],\n",
       " [1, 4],\n",
       " [1, 4],\n",
       " [1, 4],\n",
       " [1, 4],\n",
       " [1, 4],\n",
       " [1, 4],\n",
       " [1, 5],\n",
       " [1, 5],\n",
       " [1, 5],\n",
       " [1, 5],\n",
       " [1, 5],\n",
       " [1, 5],\n",
       " [1, 5],\n",
       " [1, 5],\n",
       " [1, 5],\n",
       " [1, 5],\n",
       " [1, 5],\n",
       " [1, 5],\n",
       " [1, 5],\n",
       " [2, 1],\n",
       " [2, 1],\n",
       " [2, 1],\n",
       " [2, 1],\n",
       " [2, 1],\n",
       " [2, 1],\n",
       " [2, 1],\n",
       " [2, 1],\n",
       " [2, 1],\n",
       " [2, 1],\n",
       " [2, 1],\n",
       " [2, 1],\n",
       " [2, 1],\n",
       " [2, 2],\n",
       " [2, 2],\n",
       " [2, 2],\n",
       " [2, 2],\n",
       " [2, 2],\n",
       " [2, 2],\n",
       " [2, 2],\n",
       " [2, 2],\n",
       " [2, 2],\n",
       " [2, 2],\n",
       " [2, 2],\n",
       " [2, 2],\n",
       " [2, 2],\n",
       " [2, 3],\n",
       " [2, 3],\n",
       " [2, 3],\n",
       " [2, 3],\n",
       " [2, 3],\n",
       " [2, 3],\n",
       " [2, 3],\n",
       " [2, 3],\n",
       " [2, 3],\n",
       " [2, 3],\n",
       " [2, 3],\n",
       " [2, 3],\n",
       " [2, 3],\n",
       " [2, 4],\n",
       " [2, 4],\n",
       " [2, 4],\n",
       " [2, 4],\n",
       " [2, 4],\n",
       " [2, 4],\n",
       " [2, 4],\n",
       " [2, 4],\n",
       " [2, 4],\n",
       " [2, 4],\n",
       " [2, 4],\n",
       " [2, 4],\n",
       " [2, 4],\n",
       " [2, 5],\n",
       " [2, 5],\n",
       " [2, 5],\n",
       " [2, 5],\n",
       " [2, 5],\n",
       " [2, 5],\n",
       " [2, 5],\n",
       " [2, 5],\n",
       " [2, 5],\n",
       " [2, 5],\n",
       " [2, 5],\n",
       " [2, 5],\n",
       " [2, 5],\n",
       " [3, 1],\n",
       " [3, 1],\n",
       " [3, 1],\n",
       " [3, 1],\n",
       " [3, 1],\n",
       " [3, 1],\n",
       " [3, 1],\n",
       " [3, 1],\n",
       " [3, 1],\n",
       " [3, 1],\n",
       " [3, 1],\n",
       " [3, 1],\n",
       " [3, 1],\n",
       " [3, 2],\n",
       " [3, 2],\n",
       " [3, 2],\n",
       " [3, 2],\n",
       " [3, 2],\n",
       " [3, 2],\n",
       " [3, 2],\n",
       " [3, 2],\n",
       " [3, 2],\n",
       " [3, 2],\n",
       " [3, 2],\n",
       " [3, 2],\n",
       " [3, 2],\n",
       " [3, 3],\n",
       " [3, 3],\n",
       " [3, 3],\n",
       " [3, 3],\n",
       " [3, 3],\n",
       " [3, 3],\n",
       " [3, 3],\n",
       " [3, 3],\n",
       " [3, 3],\n",
       " [3, 3],\n",
       " [3, 3],\n",
       " [3, 3],\n",
       " [3, 3],\n",
       " [3, 4],\n",
       " [3, 4],\n",
       " [3, 4],\n",
       " [3, 4],\n",
       " [3, 4],\n",
       " [3, 4],\n",
       " [3, 4],\n",
       " [3, 4],\n",
       " [3, 4],\n",
       " [3, 4],\n",
       " [3, 4],\n",
       " [3, 4],\n",
       " [3, 4],\n",
       " [3, 5],\n",
       " [3, 5],\n",
       " [3, 5],\n",
       " [3, 5],\n",
       " [3, 5],\n",
       " [3, 5],\n",
       " [3, 5],\n",
       " [3, 5],\n",
       " [3, 5],\n",
       " [3, 5],\n",
       " [3, 5],\n",
       " [3, 5],\n",
       " [3, 5],\n",
       " [4, 1],\n",
       " [4, 1],\n",
       " [4, 1],\n",
       " [4, 1],\n",
       " [4, 1],\n",
       " [4, 1],\n",
       " [4, 1],\n",
       " [4, 1],\n",
       " [4, 1],\n",
       " [4, 1],\n",
       " [4, 1],\n",
       " [4, 1],\n",
       " [4, 1],\n",
       " [4, 2],\n",
       " [4, 2],\n",
       " [4, 2],\n",
       " [4, 2],\n",
       " [4, 2],\n",
       " [4, 2],\n",
       " [4, 2],\n",
       " [4, 2],\n",
       " [4, 2],\n",
       " [4, 2],\n",
       " [4, 2],\n",
       " [4, 2],\n",
       " [4, 2],\n",
       " [4, 3],\n",
       " [4, 3],\n",
       " [4, 3],\n",
       " [4, 3],\n",
       " [4, 3],\n",
       " [4, 3],\n",
       " [4, 3],\n",
       " [4, 3],\n",
       " [4, 3],\n",
       " [4, 3],\n",
       " [4, 3],\n",
       " [4, 3],\n",
       " [4, 3],\n",
       " [4, 4],\n",
       " [4, 4],\n",
       " [4, 4],\n",
       " [4, 4],\n",
       " [4, 4],\n",
       " [4, 4],\n",
       " [4, 4],\n",
       " [4, 4],\n",
       " [4, 4],\n",
       " [4, 4],\n",
       " [4, 4],\n",
       " [4, 4],\n",
       " [4, 4],\n",
       " [6, 7],\n",
       " [6, 7],\n",
       " [6, 7],\n",
       " [6, 7],\n",
       " [6, 7],\n",
       " [6, 7],\n",
       " [6, 7],\n",
       " [6, 7],\n",
       " [6, 7],\n",
       " [6, 7],\n",
       " [6, 7],\n",
       " [6, 7],\n",
       " [6, 7]]"
      ]
     },
     "execution_count": 61,
     "metadata": {},
     "output_type": "execute_result"
    }
   ],
   "source": [
    "X_r"
   ]
  },
  {
   "cell_type": "markdown",
   "metadata": {},
   "source": [
    "### Deprecated: Writing CSV"
   ]
  },
  {
   "cell_type": "raw",
   "metadata": {},
   "source": [
    "#fname = \"{}_{}_{}_{}.csv\".format(alphabet, max_string_len, regex_chars, max_regex_len)\n",
    "fname = \"test.csv\"\n",
    "with open(fname, \"w\") as file:\n",
    "    writer = csv.writer(file, delimiter=',', quoting=csv.QUOTE_ALL)\n",
    "    writer.writerows(dataset_generator(max_regex_len, max_string_len, alphabet, regex_chars))"
   ]
  },
  {
   "cell_type": "code",
   "execution_count": 67,
   "metadata": {
    "collapsed": true
   },
   "outputs": [],
   "source": [
    "ex = re.compile(r'(a+)b\\1b\\1')"
   ]
  },
  {
   "cell_type": "code",
   "execution_count": 68,
   "metadata": {
    "collapsed": false
   },
   "outputs": [
    {
     "name": "stdout",
     "output_type": "stream",
     "text": [
      "<_sre.SRE_Match object; span=(0, 11), match='aaabaaabaaa'>\n"
     ]
    }
   ],
   "source": [
    "print(ex.fullmatch('aaabaaabaaa'))"
   ]
  },
  {
   "cell_type": "code",
   "execution_count": null,
   "metadata": {
    "collapsed": true
   },
   "outputs": [],
   "source": []
  }
 ],
 "metadata": {
  "kernelspec": {
   "display_name": "Python 3",
   "language": "python",
   "name": "python3"
  },
  "language_info": {
   "codemirror_mode": {
    "name": "ipython",
    "version": 3
   },
   "file_extension": ".py",
   "mimetype": "text/x-python",
   "name": "python",
   "nbconvert_exporter": "python",
   "pygments_lexer": "ipython3",
   "version": "3.6.4"
  }
 },
 "nbformat": 4,
 "nbformat_minor": 2
}
