{
 "cells": [
  {
   "cell_type": "markdown",
   "metadata": {},
   "source": [
    "# Regular Expression Dataset Generation"
   ]
  },
  {
   "cell_type": "markdown",
   "metadata": {},
   "source": [
    "## Utilities\n",
    "### Definitions"
   ]
  },
  {
   "cell_type": "code",
   "execution_count": 1,
   "metadata": {
    "collapsed": false
   },
   "outputs": [],
   "source": [
    "import re\n",
    "from itertools import product\n",
    "from string import ascii_letters\n",
    "import csv\n",
    "import numpy as np"
   ]
  },
  {
   "cell_type": "code",
   "execution_count": 2,
   "metadata": {
    "collapsed": true
   },
   "outputs": [],
   "source": [
    "def all_strings(max_length, alphabet):\n",
    "    \"\"\"Returns a generator of all strings up to a given length from an alphabet\"\"\"\n",
    "    for length in range(max_length + 1):\n",
    "        for s in product(alphabet, repeat=length):\n",
    "            yield ''.join(s)"
   ]
  },
  {
   "cell_type": "code",
   "execution_count": 3,
   "metadata": {
    "collapsed": true
   },
   "outputs": [],
   "source": [
    "def extract_valid_regexes(candidates):\n",
    "    \"\"\"Takes a generator of strings and returns a generator of compiled valid regexes\"\"\"\n",
    "    for c in candidates:\n",
    "        try:\n",
    "            yield re.compile(c)\n",
    "        except:\n",
    "            pass"
   ]
  },
  {
   "cell_type": "code",
   "execution_count": 4,
   "metadata": {
    "collapsed": true
   },
   "outputs": [],
   "source": [
    "def all_regexes(max_length, alphabet):\n",
    "    \"\"\"Returns a generator of all valid regexes up to a length from an alphabet\"\"\"\n",
    "    return extract_valid_regexes(all_strings(max_length, alphabet))"
   ]
  },
  {
   "cell_type": "markdown",
   "metadata": {},
   "source": [
    "### Examples"
   ]
  },
  {
   "cell_type": "code",
   "execution_count": 5,
   "metadata": {
    "collapsed": false
   },
   "outputs": [
    {
     "name": "stdout",
     "output_type": "stream",
     "text": [
      "['', 'a', 'b', 'aa', 'ab', 'ba', 'bb']\n",
      "[re.compile(''), re.compile('a'), re.compile('b'), re.compile('|'), re.compile('aa'), re.compile('ab')]\n"
     ]
    }
   ],
   "source": [
    "print(list(all_strings(2, \"ab\")))\n",
    "print(list(all_regexes(3, \"ab|*\"))[:6])"
   ]
  },
  {
   "cell_type": "markdown",
   "metadata": {},
   "source": [
    "## Dataset Generation\n",
    "### Definitions"
   ]
  },
  {
   "cell_type": "code",
   "execution_count": 6,
   "metadata": {
    "collapsed": true
   },
   "outputs": [],
   "source": [
    "def regex_apply_all(regex, max_length, alphabet):\n",
    "    \"\"\"Returns a generator that takes a compiled regex and yields\n",
    "    tuples for every string of length from alphabet with whether\n",
    "    or not it matches the regex\"\"\"\n",
    "    for string in all_strings(max_length, alphabet):\n",
    "        yield (string, bool(regex.fullmatch(string)))"
   ]
  },
  {
   "cell_type": "code",
   "execution_count": 7,
   "metadata": {
    "collapsed": true
   },
   "outputs": [],
   "source": [
    "def triple_count_bound(regex_max_length, string_max_length, alphabet, regex_chars):\n",
    "    \"\"\"Returns an upper bound on the size of a dataset generated with the same parameters\"\"\"\n",
    "    count_regexes = sum(len(alphabet + regex_chars) ** length for length in range(regex_max_length + 1))\n",
    "    count_strings = sum(len(alphabet) ** length for length in range(string_max_length + 1))\n",
    "    return count_regexes * count_strings"
   ]
  },
  {
   "cell_type": "code",
   "execution_count": 8,
   "metadata": {
    "collapsed": false
   },
   "outputs": [],
   "source": [
    "def triple_generator(regex_max_length, string_max_length, alphabet, regex_chars):\n",
    "    \"\"\"Returns a generator that gives for every regex-string pair\n",
    "    up to a length whether or not they match\"\"\"\n",
    "    for regex in all_regexes(regex_max_length, alphabet + regex_chars):\n",
    "        for string in all_strings(string_max_length, alphabet):\n",
    "            yield regex.pattern, string, bool(regex.fullmatch(string))"
   ]
  },
  {
   "cell_type": "markdown",
   "metadata": {},
   "source": [
    "### Examples"
   ]
  },
  {
   "cell_type": "code",
   "execution_count": 9,
   "metadata": {
    "collapsed": false
   },
   "outputs": [
    {
     "data": {
      "text/plain": [
       "[('', '', True),\n",
       " ('', 'a', False),\n",
       " ('', 'b', False),\n",
       " ('', 'aa', False),\n",
       " ('', 'ab', False),\n",
       " ('', 'ba', False),\n",
       " ('', 'bb', False),\n",
       " ('a', '', False),\n",
       " ('a', 'a', True),\n",
       " ('a', 'b', False),\n",
       " ('a', 'aa', False),\n",
       " ('a', 'ab', False),\n",
       " ('a', 'ba', False),\n",
       " ('a', 'bb', False),\n",
       " ('b', '', False),\n",
       " ('b', 'a', False),\n",
       " ('b', 'b', True),\n",
       " ('b', 'aa', False),\n",
       " ('b', 'ab', False),\n",
       " ('b', 'ba', False),\n",
       " ('b', 'bb', False),\n",
       " ('|', '', True),\n",
       " ('|', 'a', False),\n",
       " ('|', 'b', False),\n",
       " ('|', 'aa', False),\n",
       " ('|', 'ab', False),\n",
       " ('|', 'ba', False),\n",
       " ('|', 'bb', False),\n",
       " ('aa', '', False),\n",
       " ('aa', 'a', False),\n",
       " ('aa', 'b', False),\n",
       " ('aa', 'aa', True),\n",
       " ('aa', 'ab', False),\n",
       " ('aa', 'ba', False),\n",
       " ('aa', 'bb', False),\n",
       " ('ab', '', False),\n",
       " ('ab', 'a', False),\n",
       " ('ab', 'b', False),\n",
       " ('ab', 'aa', False),\n",
       " ('ab', 'ab', True),\n",
       " ('ab', 'ba', False),\n",
       " ('ab', 'bb', False),\n",
       " ('a|', '', True),\n",
       " ('a|', 'a', True),\n",
       " ('a|', 'b', False),\n",
       " ('a|', 'aa', False),\n",
       " ('a|', 'ab', False),\n",
       " ('a|', 'ba', False),\n",
       " ('a|', 'bb', False),\n",
       " ('a*', '', True),\n",
       " ('a*', 'a', True),\n",
       " ('a*', 'b', False),\n",
       " ('a*', 'aa', True),\n",
       " ('a*', 'ab', False),\n",
       " ('a*', 'ba', False),\n",
       " ('a*', 'bb', False),\n",
       " ('ba', '', False),\n",
       " ('ba', 'a', False),\n",
       " ('ba', 'b', False),\n",
       " ('ba', 'aa', False),\n",
       " ('ba', 'ab', False),\n",
       " ('ba', 'ba', True),\n",
       " ('ba', 'bb', False),\n",
       " ('bb', '', False),\n",
       " ('bb', 'a', False),\n",
       " ('bb', 'b', False),\n",
       " ('bb', 'aa', False),\n",
       " ('bb', 'ab', False),\n",
       " ('bb', 'ba', False),\n",
       " ('bb', 'bb', True),\n",
       " ('b|', '', True),\n",
       " ('b|', 'a', False),\n",
       " ('b|', 'b', True),\n",
       " ('b|', 'aa', False),\n",
       " ('b|', 'ab', False),\n",
       " ('b|', 'ba', False),\n",
       " ('b|', 'bb', False),\n",
       " ('b*', '', True),\n",
       " ('b*', 'a', False),\n",
       " ('b*', 'b', True),\n",
       " ('b*', 'aa', False),\n",
       " ('b*', 'ab', False),\n",
       " ('b*', 'ba', False),\n",
       " ('b*', 'bb', True),\n",
       " ('|a', '', True),\n",
       " ('|a', 'a', True),\n",
       " ('|a', 'b', False),\n",
       " ('|a', 'aa', False),\n",
       " ('|a', 'ab', False),\n",
       " ('|a', 'ba', False),\n",
       " ('|a', 'bb', False),\n",
       " ('|b', '', True),\n",
       " ('|b', 'a', False),\n",
       " ('|b', 'b', True),\n",
       " ('|b', 'aa', False),\n",
       " ('|b', 'ab', False),\n",
       " ('|b', 'ba', False),\n",
       " ('|b', 'bb', False),\n",
       " ('||', '', True),\n",
       " ('||', 'a', False),\n",
       " ('||', 'b', False),\n",
       " ('||', 'aa', False),\n",
       " ('||', 'ab', False),\n",
       " ('||', 'ba', False),\n",
       " ('||', 'bb', False),\n",
       " ('()', '', True),\n",
       " ('()', 'a', False),\n",
       " ('()', 'b', False),\n",
       " ('()', 'aa', False),\n",
       " ('()', 'ab', False),\n",
       " ('()', 'ba', False),\n",
       " ('()', 'bb', False)]"
      ]
     },
     "execution_count": 9,
     "metadata": {},
     "output_type": "execute_result"
    }
   ],
   "source": [
    "list(triple_generator(2, 2, \"ab\", \"|*()\"))"
   ]
  },
  {
   "cell_type": "code",
   "execution_count": 10,
   "metadata": {
    "collapsed": false
   },
   "outputs": [
    {
     "data": {
      "text/plain": [
       "89455275"
      ]
     },
     "execution_count": 10,
     "metadata": {},
     "output_type": "execute_result"
    }
   ],
   "source": [
    "triple_count_bound(5, 15, \"ab\", \"|*\")"
   ]
  },
  {
   "cell_type": "code",
   "execution_count": 11,
   "metadata": {
    "collapsed": false
   },
   "outputs": [
    {
     "data": {
      "text/plain": [
       "2214325"
      ]
     },
     "execution_count": 11,
     "metadata": {},
     "output_type": "execute_result"
    }
   ],
   "source": [
    "len(list(triple_generator(2, 10, \"abc\", \"|*()\")))"
   ]
  },
  {
   "cell_type": "markdown",
   "metadata": {},
   "source": [
    "## Writing Dataset"
   ]
  },
  {
   "cell_type": "markdown",
   "metadata": {},
   "source": [
    "### Padded Dataset"
   ]
  },
  {
   "cell_type": "code",
   "execution_count": 13,
   "metadata": {
    "collapsed": true
   },
   "outputs": [],
   "source": [
    "def integer_encode(X, char_to_int, max_len):\n",
    "    Xenc = list()\n",
    "    for pattern in X:\n",
    "        pattern = pattern.ljust(max_len)\n",
    "        integer_encoded = [char_to_int[char] for char in pattern]\n",
    "        Xenc.append(integer_encoded)\n",
    "    return Xenc"
   ]
  },
  {
   "cell_type": "code",
   "execution_count": 14,
   "metadata": {
    "collapsed": false
   },
   "outputs": [],
   "source": [
    "def one_hot_encode(X, alphabet_size):\n",
    "    Xenc = list()\n",
    "    for seq in X:\n",
    "        pattern = list()\n",
    "        for index in seq:\n",
    "            vector = [0 for _ in range(alphabet_size)]\n",
    "            if index != 0:\n",
    "                vector[index - 1] = 1\n",
    "            pattern.append(vector)\n",
    "        Xenc.append(pattern)\n",
    "    return Xenc"
   ]
  },
  {
   "cell_type": "code",
   "execution_count": 15,
   "metadata": {
    "collapsed": false
   },
   "outputs": [],
   "source": [
    "def generate_data(max_regex_len, max_string_len, alphabet, regex_chars):\n",
    "    # embedding parameters\n",
    "    pad_char = \" \"\n",
    "    char_to_int = dict((c, i) for i, c in enumerate(pad_char + alphabet + regex_chars))\n",
    "\n",
    "    # generate dataset\n",
    "    regexes, strings, labels = map(list, zip(*triple_generator(max_regex_len, max_string_len, alphabet, regex_chars)))\n",
    "\n",
    "    X_r = integer_encode(regexes, char_to_int, max_regex_len)\n",
    "    X_s = integer_encode(strings, char_to_int, max_string_len)\n",
    "\n",
    "    X_r = one_hot_encode(X_r, len(alphabet + regex_chars)) # note, sets integer 0 to zero embedding\n",
    "    X_s = one_hot_encode(X_s, len(alphabet))\n",
    "    \n",
    "    y = [int(b) for b in labels]\n",
    "    \n",
    "    X_r = np.array(X_r)\n",
    "    X_s = np.array(X_s)\n",
    "    y = np.array(y, ndmin=2).T\n",
    "    \n",
    "    return X_r, X_s, y"
   ]
  },
  {
   "cell_type": "code",
   "execution_count": 17,
   "metadata": {
    "collapsed": false
   },
   "outputs": [],
   "source": [
    "# define problem\n",
    "max_regex_len = 5\n",
    "max_string_len = 10\n",
    "alphabet = \"ab\"\n",
    "regex_chars = \"|*()\"\n",
    "\n",
    "X_r, X_s, y = generate_data(max_regex_len, max_string_len, alphabet, regex_chars)"
   ]
  },
  {
   "cell_type": "code",
   "execution_count": 18,
   "metadata": {
    "collapsed": false
   },
   "outputs": [],
   "source": [
    "config = \"test\"\n",
    "np.save(config + \"_X_r\", X_r)\n",
    "np.save(config + \"_X_s\", X_s)\n",
    "np.save(config + \"_y\", y)"
   ]
  },
  {
   "cell_type": "code",
   "execution_count": 22,
   "metadata": {
    "collapsed": false
   },
   "outputs": [
    {
     "name": "stdout",
     "output_type": "stream",
     "text": [
      "6638\n",
      "(2468682, 1)\n"
     ]
    }
   ],
   "source": []
  },
  {
   "cell_type": "code",
   "execution_count": null,
   "metadata": {
    "collapsed": true
   },
   "outputs": [],
   "source": []
  }
 ],
 "metadata": {
  "kernelspec": {
   "display_name": "Python 3",
   "language": "python",
   "name": "python3"
  },
  "language_info": {
   "codemirror_mode": {
    "name": "ipython",
    "version": 3
   },
   "file_extension": ".py",
   "mimetype": "text/x-python",
   "name": "python",
   "nbconvert_exporter": "python",
   "pygments_lexer": "ipython3",
   "version": "3.6.4"
  }
 },
 "nbformat": 4,
 "nbformat_minor": 2
}
