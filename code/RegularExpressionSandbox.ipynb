{
 "cells": [
  {
   "cell_type": "code",
   "execution_count": 17,
   "metadata": {
    "collapsed": true
   },
   "outputs": [],
   "source": [
    "import re\n",
    "from itertools import product\n",
    "from string import ascii_letters"
   ]
  },
  {
   "cell_type": "code",
   "execution_count": 30,
   "metadata": {
    "collapsed": true
   },
   "outputs": [],
   "source": [
    "def all_strings(n, characters):\n",
    "    for s in product(characters, repeat=n):\n",
    "        yield ''.join(s)"
   ]
  },
  {
   "cell_type": "code",
   "execution_count": 35,
   "metadata": {
    "collapsed": false
   },
   "outputs": [
    {
     "data": {
      "text/plain": [
       "re.compile(r'o[gh]', re.UNICODE)"
      ]
     },
     "execution_count": 35,
     "metadata": {},
     "output_type": "execute_result"
    }
   ],
   "source": [
    "pattern = re.compile(\"o[gh]\")\n",
    "pattern"
   ]
  },
  {
   "cell_type": "code",
   "execution_count": 51,
   "metadata": {
    "collapsed": false
   },
   "outputs": [
    {
     "name": "stdout",
     "output_type": "stream",
     "text": [
      "Not a valid pattern\n"
     ]
    }
   ],
   "source": [
    "try:\n",
    "    pattern = re.compile(\"o[gh\")\n",
    "    print(\"A valid pattern\")\n",
    "except:\n",
    "    print(\"Not a valid pattern\")"
   ]
  },
  {
   "cell_type": "code",
   "execution_count": 25,
   "metadata": {
    "collapsed": false
   },
   "outputs": [
    {
     "name": "stdout",
     "output_type": "stream",
     "text": [
      "<_sre.SRE_Match object; span=(0, 2), match='og'>\n",
      "None\n",
      "None\n",
      "<_sre.SRE_Match object; span=(1, 3), match='og'>\n"
     ]
    }
   ],
   "source": [
    "print(pattern.fullmatch(\"og\"))\n",
    "print(pattern.fullmatch(\"dog\"))\n",
    "print(pattern.fullmatch(\"ogre\"))\n",
    "print(pattern.fullmatch(\"doggie\", 1, 3))"
   ]
  },
  {
   "cell_type": "code",
   "execution_count": 26,
   "metadata": {
    "collapsed": false
   },
   "outputs": [
    {
     "data": {
      "text/plain": [
       "['og', 'oh']"
      ]
     },
     "execution_count": 26,
     "metadata": {},
     "output_type": "execute_result"
    }
   ],
   "source": [
    "match_2 = [string for string in all_strings(2) if pattern.fullmatch(string)]\n",
    "match_2"
   ]
  },
  {
   "cell_type": "code",
   "execution_count": 45,
   "metadata": {
    "collapsed": true
   },
   "outputs": [],
   "source": [
    "def extract_valid_regexes(candidates):\n",
    "    for c in candidates:\n",
    "        try:\n",
    "            yield re.compile(c)\n",
    "        except:\n",
    "            pass"
   ]
  },
  {
   "cell_type": "code",
   "execution_count": 58,
   "metadata": {
    "collapsed": false
   },
   "outputs": [
    {
     "data": {
      "text/plain": [
       "[re.compile(r'aaa', re.UNICODE),\n",
       " re.compile(r'aab', re.UNICODE),\n",
       " re.compile(r'aac', re.UNICODE),\n",
       " re.compile(r'aad', re.UNICODE),\n",
       " re.compile(r'aa|', re.UNICODE),\n",
       " re.compile(r'aa*', re.UNICODE),\n",
       " re.compile(r'aba', re.UNICODE),\n",
       " re.compile(r'abb', re.UNICODE),\n",
       " re.compile(r'abc', re.UNICODE),\n",
       " re.compile(r'abd', re.UNICODE),\n",
       " re.compile(r'ab|', re.UNICODE),\n",
       " re.compile(r'ab*', re.UNICODE),\n",
       " re.compile(r'aca', re.UNICODE),\n",
       " re.compile(r'acb', re.UNICODE),\n",
       " re.compile(r'acc', re.UNICODE),\n",
       " re.compile(r'acd', re.UNICODE),\n",
       " re.compile(r'ac|', re.UNICODE),\n",
       " re.compile(r'ac*', re.UNICODE),\n",
       " re.compile(r'ada', re.UNICODE),\n",
       " re.compile(r'adb', re.UNICODE),\n",
       " re.compile(r'adc', re.UNICODE),\n",
       " re.compile(r'add', re.UNICODE),\n",
       " re.compile(r'ad|', re.UNICODE),\n",
       " re.compile(r'ad*', re.UNICODE),\n",
       " re.compile(r'a()', re.UNICODE),\n",
       " re.compile(r'a|a', re.UNICODE),\n",
       " re.compile(r'a|b', re.UNICODE),\n",
       " re.compile(r'a|c', re.UNICODE),\n",
       " re.compile(r'a|d', re.UNICODE),\n",
       " re.compile(r'a||', re.UNICODE),\n",
       " re.compile(r'a*a', re.UNICODE),\n",
       " re.compile(r'a*b', re.UNICODE),\n",
       " re.compile(r'a*c', re.UNICODE),\n",
       " re.compile(r'a*d', re.UNICODE),\n",
       " re.compile(r'a*|', re.UNICODE),\n",
       " re.compile(r'baa', re.UNICODE),\n",
       " re.compile(r'bab', re.UNICODE),\n",
       " re.compile(r'bac', re.UNICODE),\n",
       " re.compile(r'bad', re.UNICODE),\n",
       " re.compile(r'ba|', re.UNICODE),\n",
       " re.compile(r'ba*', re.UNICODE),\n",
       " re.compile(r'bba', re.UNICODE),\n",
       " re.compile(r'bbb', re.UNICODE),\n",
       " re.compile(r'bbc', re.UNICODE),\n",
       " re.compile(r'bbd', re.UNICODE),\n",
       " re.compile(r'bb|', re.UNICODE),\n",
       " re.compile(r'bb*', re.UNICODE),\n",
       " re.compile(r'bca', re.UNICODE),\n",
       " re.compile(r'bcb', re.UNICODE),\n",
       " re.compile(r'bcc', re.UNICODE),\n",
       " re.compile(r'bcd', re.UNICODE),\n",
       " re.compile(r'bc|', re.UNICODE),\n",
       " re.compile(r'bc*', re.UNICODE),\n",
       " re.compile(r'bda', re.UNICODE),\n",
       " re.compile(r'bdb', re.UNICODE),\n",
       " re.compile(r'bdc', re.UNICODE),\n",
       " re.compile(r'bdd', re.UNICODE),\n",
       " re.compile(r'bd|', re.UNICODE),\n",
       " re.compile(r'bd*', re.UNICODE),\n",
       " re.compile(r'b()', re.UNICODE),\n",
       " re.compile(r'b|a', re.UNICODE),\n",
       " re.compile(r'b|b', re.UNICODE),\n",
       " re.compile(r'b|c', re.UNICODE),\n",
       " re.compile(r'b|d', re.UNICODE),\n",
       " re.compile(r'b||', re.UNICODE),\n",
       " re.compile(r'b*a', re.UNICODE),\n",
       " re.compile(r'b*b', re.UNICODE),\n",
       " re.compile(r'b*c', re.UNICODE),\n",
       " re.compile(r'b*d', re.UNICODE),\n",
       " re.compile(r'b*|', re.UNICODE),\n",
       " re.compile(r'caa', re.UNICODE),\n",
       " re.compile(r'cab', re.UNICODE),\n",
       " re.compile(r'cac', re.UNICODE),\n",
       " re.compile(r'cad', re.UNICODE),\n",
       " re.compile(r'ca|', re.UNICODE),\n",
       " re.compile(r'ca*', re.UNICODE),\n",
       " re.compile(r'cba', re.UNICODE),\n",
       " re.compile(r'cbb', re.UNICODE),\n",
       " re.compile(r'cbc', re.UNICODE),\n",
       " re.compile(r'cbd', re.UNICODE),\n",
       " re.compile(r'cb|', re.UNICODE),\n",
       " re.compile(r'cb*', re.UNICODE),\n",
       " re.compile(r'cca', re.UNICODE),\n",
       " re.compile(r'ccb', re.UNICODE),\n",
       " re.compile(r'ccc', re.UNICODE),\n",
       " re.compile(r'ccd', re.UNICODE),\n",
       " re.compile(r'cc|', re.UNICODE),\n",
       " re.compile(r'cc*', re.UNICODE),\n",
       " re.compile(r'cda', re.UNICODE),\n",
       " re.compile(r'cdb', re.UNICODE),\n",
       " re.compile(r'cdc', re.UNICODE),\n",
       " re.compile(r'cdd', re.UNICODE),\n",
       " re.compile(r'cd|', re.UNICODE),\n",
       " re.compile(r'cd*', re.UNICODE),\n",
       " re.compile(r'c()', re.UNICODE),\n",
       " re.compile(r'c|a', re.UNICODE),\n",
       " re.compile(r'c|b', re.UNICODE),\n",
       " re.compile(r'c|c', re.UNICODE),\n",
       " re.compile(r'c|d', re.UNICODE),\n",
       " re.compile(r'c||', re.UNICODE),\n",
       " re.compile(r'c*a', re.UNICODE),\n",
       " re.compile(r'c*b', re.UNICODE),\n",
       " re.compile(r'c*c', re.UNICODE),\n",
       " re.compile(r'c*d', re.UNICODE),\n",
       " re.compile(r'c*|', re.UNICODE),\n",
       " re.compile(r'daa', re.UNICODE),\n",
       " re.compile(r'dab', re.UNICODE),\n",
       " re.compile(r'dac', re.UNICODE),\n",
       " re.compile(r'dad', re.UNICODE),\n",
       " re.compile(r'da|', re.UNICODE),\n",
       " re.compile(r'da*', re.UNICODE),\n",
       " re.compile(r'dba', re.UNICODE),\n",
       " re.compile(r'dbb', re.UNICODE),\n",
       " re.compile(r'dbc', re.UNICODE),\n",
       " re.compile(r'dbd', re.UNICODE),\n",
       " re.compile(r'db|', re.UNICODE),\n",
       " re.compile(r'db*', re.UNICODE),\n",
       " re.compile(r'dca', re.UNICODE),\n",
       " re.compile(r'dcb', re.UNICODE),\n",
       " re.compile(r'dcc', re.UNICODE),\n",
       " re.compile(r'dcd', re.UNICODE),\n",
       " re.compile(r'dc|', re.UNICODE),\n",
       " re.compile(r'dc*', re.UNICODE),\n",
       " re.compile(r'dda', re.UNICODE),\n",
       " re.compile(r'ddb', re.UNICODE),\n",
       " re.compile(r'ddc', re.UNICODE),\n",
       " re.compile(r'ddd', re.UNICODE),\n",
       " re.compile(r'dd|', re.UNICODE),\n",
       " re.compile(r'dd*', re.UNICODE),\n",
       " re.compile(r'd()', re.UNICODE),\n",
       " re.compile(r'd|a', re.UNICODE),\n",
       " re.compile(r'd|b', re.UNICODE),\n",
       " re.compile(r'd|c', re.UNICODE),\n",
       " re.compile(r'd|d', re.UNICODE),\n",
       " re.compile(r'd||', re.UNICODE),\n",
       " re.compile(r'd*a', re.UNICODE),\n",
       " re.compile(r'd*b', re.UNICODE),\n",
       " re.compile(r'd*c', re.UNICODE),\n",
       " re.compile(r'd*d', re.UNICODE),\n",
       " re.compile(r'd*|', re.UNICODE),\n",
       " re.compile(r'(a)', re.UNICODE),\n",
       " re.compile(r'(b)', re.UNICODE),\n",
       " re.compile(r'(c)', re.UNICODE),\n",
       " re.compile(r'(d)', re.UNICODE),\n",
       " re.compile(r'()a', re.UNICODE),\n",
       " re.compile(r'()b', re.UNICODE),\n",
       " re.compile(r'()c', re.UNICODE),\n",
       " re.compile(r'()d', re.UNICODE),\n",
       " re.compile(r'()|', re.UNICODE),\n",
       " re.compile(r'()*', re.UNICODE),\n",
       " re.compile(r'(|)', re.UNICODE),\n",
       " re.compile(r'|aa', re.UNICODE),\n",
       " re.compile(r'|ab', re.UNICODE),\n",
       " re.compile(r'|ac', re.UNICODE),\n",
       " re.compile(r'|ad', re.UNICODE),\n",
       " re.compile(r'|a|', re.UNICODE),\n",
       " re.compile(r'|a*', re.UNICODE),\n",
       " re.compile(r'|ba', re.UNICODE),\n",
       " re.compile(r'|bb', re.UNICODE),\n",
       " re.compile(r'|bc', re.UNICODE),\n",
       " re.compile(r'|bd', re.UNICODE),\n",
       " re.compile(r'|b|', re.UNICODE),\n",
       " re.compile(r'|b*', re.UNICODE),\n",
       " re.compile(r'|ca', re.UNICODE),\n",
       " re.compile(r'|cb', re.UNICODE),\n",
       " re.compile(r'|cc', re.UNICODE),\n",
       " re.compile(r'|cd', re.UNICODE),\n",
       " re.compile(r'|c|', re.UNICODE),\n",
       " re.compile(r'|c*', re.UNICODE),\n",
       " re.compile(r'|da', re.UNICODE),\n",
       " re.compile(r'|db', re.UNICODE),\n",
       " re.compile(r'|dc', re.UNICODE),\n",
       " re.compile(r'|dd', re.UNICODE),\n",
       " re.compile(r'|d|', re.UNICODE),\n",
       " re.compile(r'|d*', re.UNICODE),\n",
       " re.compile(r'|()', re.UNICODE),\n",
       " re.compile(r'||a', re.UNICODE),\n",
       " re.compile(r'||b', re.UNICODE),\n",
       " re.compile(r'||c', re.UNICODE),\n",
       " re.compile(r'||d', re.UNICODE),\n",
       " re.compile(r'|||', re.UNICODE)]"
      ]
     },
     "execution_count": 58,
     "metadata": {},
     "output_type": "execute_result"
    }
   ],
   "source": [
    "char_count = 4 # Must be < 2 * 26\n",
    "characters = ascii_letters[:char_count]\n",
    "symbols = characters + \"()|*\"\n",
    "possible_strings = list(all_strings(3, characters))\n",
    "possible_regexes = all_strings(3, symbols)\n",
    "valid_regexes = list(extract_valid_regexes(possible_regexes))\n",
    "valid_regexes"
   ]
  },
  {
   "cell_type": "code",
   "execution_count": 59,
   "metadata": {
    "collapsed": false
   },
   "outputs": [],
   "source": [
    "reg = re.compile('|||') # Note that this is a valid regex"
   ]
  },
  {
   "cell_type": "code",
   "execution_count": null,
   "metadata": {
    "collapsed": true
   },
   "outputs": [],
   "source": []
  }
 ],
 "metadata": {
  "kernelspec": {
   "display_name": "Python 3",
   "language": "python",
   "name": "python3"
  },
  "language_info": {
   "codemirror_mode": {
    "name": "ipython",
    "version": 3
   },
   "file_extension": ".py",
   "mimetype": "text/x-python",
   "name": "python",
   "nbconvert_exporter": "python",
   "pygments_lexer": "ipython3",
   "version": "3.6.4"
  }
 },
 "nbformat": 4,
 "nbformat_minor": 2
}
